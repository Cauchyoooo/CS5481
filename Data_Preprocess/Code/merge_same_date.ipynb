{
 "cells": [
  {
   "cell_type": "code",
   "execution_count": 3,
   "id": "9fd63e87-b1ca-469e-a885-2bb2275999a1",
   "metadata": {},
   "outputs": [],
   "source": [
    "import json  \n",
    "from collections import defaultdict  \n",
    "from datetime import datetime  \n",
    "\n",
    "# 1. 加载 JSON 数据  \n",
    "file_path = 't_news.json'  \n",
    "with open(file_path, 'r', encoding='utf-8') as file:  \n",
    "    news_data = json.load(file)  \n",
    "\n",
    "# 2. 提取主要事件并按日期分组  \n",
    "event_timeline = defaultdict(list)  \n",
    "for news in news_data:  \n",
    "    date = news['date']  \n",
    "    event_timeline[date].append(\"[ \"+news['title']+\" ]: \"+news['summary'])  \n",
    "\n",
    "# 3. 排序并汇总事件  \n",
    "sorted_timeline = sorted(event_timeline.items(), key=lambda x: datetime.strptime(x[0], '%Y-%m-%d'))  \n",
    "output_data = []  \n",
    "for date, events in sorted_timeline:  \n",
    "    output_data.append({  \n",
    "        'date': date,  \n",
    "        'events': events,  # 以列表形式存储事件  \n",
    "        'news_count': len(events)  # 相关新闻数量  \n",
    "    })  \n",
    "\n",
    "# 4. 保存到新文件  \n",
    "output_file_path = 'te_news.json'  \n",
    "with open(output_file_path, 'w', encoding='utf-8') as output_file:  \n",
    "    json.dump(output_data, output_file, ensure_ascii=False, indent=4)"
   ]
  },
  {
   "cell_type": "code",
   "execution_count": null,
   "id": "0f82c569-b9d3-44d5-902b-adef1acd9b28",
   "metadata": {},
   "outputs": [],
   "source": []
  }
 ],
 "metadata": {
  "kernelspec": {
   "display_name": "Python 3 (ipykernel)",
   "language": "python",
   "name": "python3"
  },
  "language_info": {
   "codemirror_mode": {
    "name": "ipython",
    "version": 3
   },
   "file_extension": ".py",
   "mimetype": "text/x-python",
   "name": "python",
   "nbconvert_exporter": "python",
   "pygments_lexer": "ipython3",
   "version": "3.11.2"
  }
 },
 "nbformat": 4,
 "nbformat_minor": 5
}
