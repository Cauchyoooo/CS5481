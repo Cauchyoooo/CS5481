{
 "cells": [
  {
   "cell_type": "code",
   "execution_count": 1,
   "id": "900fd4de-055f-43b6-829a-2ccd5ebcf9cc",
   "metadata": {},
   "outputs": [],
   "source": [
    "import requests as r\n",
    "from bs4 import BeautifulSoup\n",
    "import re"
   ]
  },
  {
   "cell_type": "code",
   "execution_count": 2,
   "id": "51407b44-034a-4028-b942-f9d8f4d00b45",
   "metadata": {},
   "outputs": [],
   "source": [
    "url = r\"https://www.nytimes.com/search?dropmab=false&endDate=2024-11-08&lang=en&query=2024%20US%20Elections&sections=U.S.%7Cnyt%3A%2F%2Fsection%2Fa34d3d6c-c77f-5931-b951-241b4e28681c&sort=newest&startDate=2024-01-01&types=article\"\n",
    "res = r.get(url)\n",
    "html = res.text\n",
    "bf = BeautifulSoup(html)"
   ]
  },
  {
   "cell_type": "code",
   "execution_count": 10,
   "id": "983c55eb-899c-4cb6-87b1-a5a2d4abfc72",
   "metadata": {},
   "outputs": [],
   "source": [
    "searchpart = bf.find('ol',{'data-testid':re.compile(\"search-result\")})\n",
    "items = searchpart.find_all('li',{'data-testid':re.compile(\"search-bodega-result\")})"
   ]
  },
  {
   "cell_type": "code",
   "execution_count": 12,
   "id": "ce654887-2b9e-4043-b120-4c9a4ac0cace",
   "metadata": {},
   "outputs": [
    {
     "name": "stdout",
     "output_type": "stream",
     "text": [
      "<li class=\"css-1l4w6pd\" data-testid=\"search-bodega-result\"><div class=\"css-1bdu3ax\"><span class=\"css-17ubb9w\"> </span><div class=\"css-1i8vfl5\"><div class=\"css-e1lvw9\"><p class=\"css-myxawk\">Politics</p><a href=\"/2024/11/08/us/politics/harris-trump-democrats-election.html?searchResultPosition=1\"><h4 class=\"css-nsjm9t\">Democrats Consider an Autopsy, but Who’s the Coroner?</h4><p class=\"css-16nhkrn\">The Democratic Party agrees it needs to figure out what went wrong. The question is how.</p><p class=\"css-1engk30\">By Jess Bidgood and Adam Nagourney</p></a></div><figure aria-label=\"media\" class=\"css-tap2ym\" role=\"group\"><div data-testid=\"imageContainer-children-Image\"><img alt=\"A campaign sign in Bozeman, Mont., last month.\" class=\"css-rq4mmj\" decoding=\"async\" height=\"1\" sizes=\"(max-width: 600px) 120px, (max-width: 1024px) 165px, 205px\" src=\"https://static01.nyt.com/images/2024/11/08/multimedia/08-pol-on-politics-newsletter-women-topitem-khpq/08-pol-on-politics-newsletter-women-topitem-khpq-threeByTwoSmallAt2X.jpg?quality=75&amp;auto=webp&amp;disable=upscale\" srcset=\"https://static01.nyt.com/images/2024/11/08/multimedia/08-pol-on-politics-newsletter-women-topitem-khpq/08-pol-on-politics-newsletter-women-topitem-khpq-thumbWide.jpg 190w,https://static01.nyt.com/images/2024/11/08/multimedia/08-pol-on-politics-newsletter-women-topitem-khpq/08-pol-on-politics-newsletter-women-topitem-khpq-videoThumb.jpg 75w,https://static01.nyt.com/images/2024/11/08/multimedia/08-pol-on-politics-newsletter-women-topitem-khpq/08-pol-on-politics-newsletter-women-topitem-khpq-videoLarge.jpg 768w,https://static01.nyt.com/images/2024/11/08/multimedia/08-pol-on-politics-newsletter-women-topitem-khpq/08-pol-on-politics-newsletter-women-topitem-khpq-mediumThreeByTwo210.jpg 210w,https://static01.nyt.com/images/2024/11/08/multimedia/08-pol-on-politics-newsletter-women-topitem-khpq/08-pol-on-politics-newsletter-women-topitem-khpq-mediumThreeByTwo225.jpg 225w,https://static01.nyt.com/images/2024/11/08/multimedia/08-pol-on-politics-newsletter-women-topitem-khpq/08-pol-on-politics-newsletter-women-topitem-khpq-mediumThreeByTwo440.jpg 440w,https://static01.nyt.com/images/2024/11/08/multimedia/08-pol-on-politics-newsletter-women-topitem-khpq/08-pol-on-politics-newsletter-women-topitem-khpq-mediumThreeByTwo252.jpg 252w,https://static01.nyt.com/images/2024/11/08/multimedia/08-pol-on-politics-newsletter-women-topitem-khpq/08-pol-on-politics-newsletter-women-topitem-khpq-mediumThreeByTwo378.jpg 378w,https://static01.nyt.com/images/2024/11/08/multimedia/08-pol-on-politics-newsletter-women-topitem-khpq/08-pol-on-politics-newsletter-women-topitem-khpq-threeByTwoLargeAt2X.jpg 1600w,https://static01.nyt.com/images/2024/11/08/multimedia/08-pol-on-politics-newsletter-women-topitem-khpq/08-pol-on-politics-newsletter-women-topitem-khpq-threeByTwoMediumAt2X.jpg 1500w,https://static01.nyt.com/images/2024/11/08/multimedia/08-pol-on-politics-newsletter-women-topitem-khpq/08-pol-on-politics-newsletter-women-topitem-khpq-threeByTwoSmallAt2X.jpg 600w\" width=\"1\"/></div><figcaption class=\"css-ktho12 e3rygrp0\" data-testid=\"photoviewer-children-ImageCaption\"></figcaption></figure></div></div></li>\n"
     ]
    }
   ],
   "source": [
    "print(items[0])"
   ]
  },
  {
   "cell_type": "code",
   "execution_count": 106,
   "id": "49644453-b9c5-4d41-bc0f-b20fd9964aa4",
   "metadata": {},
   "outputs": [],
   "source": [
    "def getDateFromHref(href):\n",
    "    tmp = href.split('/')\n",
    "    if len(tmp)<4:\n",
    "        return 'UnKnown'\n",
    "    year = tmp[1]\n",
    "    month = tmp[2]\n",
    "    day = tmp[3]\n",
    "    if(tmp[1]==\"live\"):\n",
    "        year = tmp[2]\n",
    "        month = tmp[3]\n",
    "        day = tmp[4]\n",
    "    \n",
    "    return year+'-'+month+'-'+day"
   ]
  },
  {
   "cell_type": "code",
   "execution_count": 42,
   "id": "ce7b88a5-2e59-42e2-95e6-b9e61e46fddb",
   "metadata": {},
   "outputs": [],
   "source": [
    "def extractItem(item):\n",
    "    # time = item.find('span',{'data-testid':re.compile(\"todays-date\")})\n",
    "    content = item.find('a',href=True)\n",
    "    href = content['href']\n",
    "    date = getDateFromHref(href)\n",
    "    link = 'https://www.nytimes.com'+href\n",
    "    title = content.find('h4').text\n",
    "    summary = content.find('p').text\n",
    "    obj = {\n",
    "        'Title': title,\n",
    "        'Summary': summary,\n",
    "        'Date': date,\n",
    "        'Url': link\n",
    "    }\n",
    "    return obj"
   ]
  },
  {
   "cell_type": "code",
   "execution_count": 43,
   "id": "526a54cd-ac2e-458a-960c-646b1d3ba373",
   "metadata": {},
   "outputs": [],
   "source": [
    "obj = extractItem(items[2])"
   ]
  },
  {
   "cell_type": "code",
   "execution_count": 44,
   "id": "82046545-8b1b-4e85-9a12-d6474341af96",
   "metadata": {},
   "outputs": [
    {
     "name": "stdout",
     "output_type": "stream",
     "text": [
      "{'Title': 'San Francisco Mayor-Elect Plans to Declare Fentanyl Emergency on Day 1', 'Summary': 'Daniel Lurie held his first news conference since Mayor London Breed conceded the mayoral race this week.', 'Date': '2024-11-08', 'Url': 'https://www.nytimes.com/2024/11/08/us/elections/san-francisco-daniel-lurie-fentanyl.html?searchResultPosition=3'}\n"
     ]
    }
   ],
   "source": [
    "print(obj)"
   ]
  },
  {
   "cell_type": "code",
   "execution_count": null,
   "id": "149cbddf-f3b1-4e8f-845d-99f80edbdf65",
   "metadata": {},
   "outputs": [],
   "source": []
  },
  {
   "cell_type": "code",
   "execution_count": 57,
   "id": "d3ba8a96-186d-4275-b061-81ba9aadb756",
   "metadata": {},
   "outputs": [],
   "source": [
    "from selenium import webdriver\n",
    "from selenium.webdriver.support.wait import WebDriverWait"
   ]
  },
  {
   "cell_type": "code",
   "execution_count": 71,
   "id": "9e0df1ae-468d-4930-af7f-c1f25d5f7aee",
   "metadata": {},
   "outputs": [],
   "source": [
    "from selenium.webdriver.common.by import By\n",
    "from selenium.webdriver.support import expected_conditions as EC  "
   ]
  },
  {
   "cell_type": "code",
   "execution_count": 58,
   "id": "e03a1294-bb90-4b27-ac7b-dbae63481c0a",
   "metadata": {},
   "outputs": [],
   "source": [
    "driver = webdriver.Firefox()"
   ]
  },
  {
   "cell_type": "code",
   "execution_count": 114,
   "id": "1df9c788-ab7a-40d7-8fb9-a11726c022a9",
   "metadata": {},
   "outputs": [],
   "source": [
    "# url = r\"https://www.nytimes.com/search?dropmab=false&endDate=2024-11-08&lang=en&query=2024%20US%20Elections&sections=U.S.%7Cnyt%3A%2F%2Fsection%2Fa34d3d6c-c77f-5931-b951-241b4e28681c&sort=newest&startDate=2024-01-01&types=article\"\n",
    "# url = r\"https://www.nytimes.com/search?dropmab=false&endDate=2024-09-30&lang=en&query=2024%20US%20Elections&sections=U.S.%7Cnyt%3A%2F%2Fsection%2Fa34d3d6c-c77f-5931-b951-241b4e28681c&sort=newest&startDate=2024-01-01&types=article\"\n",
    "# url = r\"https://www.nytimes.com/search?dropmab=false&endDate=2024-08-08&lang=en&query=2024%20US%20Elections&sections=U.S.%7Cnyt%3A%2F%2Fsection%2Fa34d3d6c-c77f-5931-b951-241b4e28681c&sort=newest&startDate=2024-01-01&types=article\"\n",
    "# url = r\"https://www.nytimes.com/search?dropmab=false&endDate=2024-06-26&lang=en&query=2024%20US%20Elections&sections=U.S.%7Cnyt%3A%2F%2Fsection%2Fa34d3d6c-c77f-5931-b951-241b4e28681c&sort=newest&startDate=2024-01-01&types=article\"\n",
    "# url = r\"https://www.nytimes.com/search?dropmab=false&endDate=2024-04-10&lang=en&query=2024%20US%20Elections&sections=U.S.%7Cnyt%3A%2F%2Fsection%2Fa34d3d6c-c77f-5931-b951-241b4e28681c&sort=newest&startDate=2024-01-01&types=article\"\n",
    "url = r\"https://www.nytimes.com/search?dropmab=false&endDate=2024-02-01&lang=en&query=2024%20US%20Elections&sections=U.S.%7Cnyt%3A%2F%2Fsection%2Fa34d3d6c-c77f-5931-b951-241b4e28681c&sort=newest&startDate=2024-01-01&types=article\"\n",
    "\n",
    "page = driver.get(url)\n",
    "wait = WebDriverWait(driver, 10)"
   ]
  },
  {
   "cell_type": "code",
   "execution_count": 115,
   "id": "987cd2ec-3b7f-4efb-b57c-c075b1ef8bdf",
   "metadata": {},
   "outputs": [],
   "source": [
    "bf = BeautifulSoup(driver.page_source)"
   ]
  },
  {
   "cell_type": "code",
   "execution_count": 116,
   "id": "6adf2f77-93c8-4799-ae3d-a206e9798a6d",
   "metadata": {},
   "outputs": [],
   "source": [
    "searchpart = bf.find('ol',{'data-testid':re.compile(\"search-result\")})\n",
    "items = searchpart.find_all('li',{'data-testid':re.compile(\"search-bodega-result\")})"
   ]
  },
  {
   "cell_type": "code",
   "execution_count": 117,
   "id": "77b7c181-5c82-4f63-a2f2-0097666165cb",
   "metadata": {},
   "outputs": [],
   "source": [
    "obj_list = []\n",
    "cnt = 0\n",
    "for item in items:\n",
    "    obj = extractItem(item)\n",
    "    obj_list.append(obj)\n",
    "    cnt = cnt + 1"
   ]
  },
  {
   "cell_type": "code",
   "execution_count": 119,
   "id": "a2cf1df0-8e3f-4f98-9ff3-6ffd7bece018",
   "metadata": {
    "scrolled": true
   },
   "outputs": [
    {
     "ename": "NoSuchElementException",
     "evalue": "Message: Unable to locate element: //button[@data-testid='search-show-more-button']; For documentation on this error, please visit: https://www.selenium.dev/documentation/webdriver/troubleshooting/errors#no-such-element-exception\nStacktrace:\nRemoteError@chrome://remote/content/shared/RemoteError.sys.mjs:8:8\nWebDriverError@chrome://remote/content/shared/webdriver/Errors.sys.mjs:193:5\nNoSuchElementError@chrome://remote/content/shared/webdriver/Errors.sys.mjs:511:5\ndom.find/</<@chrome://remote/content/shared/DOM.sys.mjs:136:16\n",
     "output_type": "error",
     "traceback": [
      "\u001b[1;31m---------------------------------------------------------------------------\u001b[0m",
      "\u001b[1;31mNoSuchElementException\u001b[0m                    Traceback (most recent call last)",
      "Cell \u001b[1;32mIn[119], line 2\u001b[0m\n\u001b[0;32m      1\u001b[0m \u001b[38;5;28;01mfor\u001b[39;00m i \u001b[38;5;129;01min\u001b[39;00m \u001b[38;5;28mrange\u001b[39m(\u001b[38;5;241m100\u001b[39m):\n\u001b[1;32m----> 2\u001b[0m     button \u001b[38;5;241m=\u001b[39m \u001b[43mdriver\u001b[49m\u001b[38;5;241;43m.\u001b[39;49m\u001b[43mfind_element\u001b[49m\u001b[43m(\u001b[49m\u001b[43mBy\u001b[49m\u001b[38;5;241;43m.\u001b[39;49m\u001b[43mXPATH\u001b[49m\u001b[43m,\u001b[49m\u001b[43m \u001b[49m\u001b[38;5;124;43m\"\u001b[39;49m\u001b[38;5;124;43m//button[@data-testid=\u001b[39;49m\u001b[38;5;124;43m'\u001b[39;49m\u001b[38;5;124;43msearch-show-more-button\u001b[39;49m\u001b[38;5;124;43m'\u001b[39;49m\u001b[38;5;124;43m]\u001b[39;49m\u001b[38;5;124;43m\"\u001b[39;49m\u001b[43m)\u001b[49m\n\u001b[0;32m      3\u001b[0m     button\u001b[38;5;241m.\u001b[39mclick()\n\u001b[0;32m      5\u001b[0m     WebDriverWait(driver, \u001b[38;5;241m10\u001b[39m)\u001b[38;5;241m.\u001b[39muntil(EC\u001b[38;5;241m.\u001b[39mpresence_of_all_elements_located((By\u001b[38;5;241m.\u001b[39mXPATH, \u001b[38;5;124m\"\u001b[39m\u001b[38;5;124m//li[@data-testid=\u001b[39m\u001b[38;5;124m'\u001b[39m\u001b[38;5;124msearch-bodega-result\u001b[39m\u001b[38;5;124m'\u001b[39m\u001b[38;5;124m]\u001b[39m\u001b[38;5;124m\"\u001b[39m)))\n",
      "File \u001b[1;32mD:\\python311\\Lib\\site-packages\\selenium\\webdriver\\remote\\webdriver.py:766\u001b[0m, in \u001b[0;36mWebDriver.find_element\u001b[1;34m(self, by, value)\u001b[0m\n\u001b[0;32m    763\u001b[0m         \u001b[38;5;28;01mraise\u001b[39;00m NoSuchElementException(\u001b[38;5;124mf\u001b[39m\u001b[38;5;124m\"\u001b[39m\u001b[38;5;124mCannot locate relative element with: \u001b[39m\u001b[38;5;132;01m{\u001b[39;00mby\u001b[38;5;241m.\u001b[39mroot\u001b[38;5;132;01m}\u001b[39;00m\u001b[38;5;124m\"\u001b[39m)\n\u001b[0;32m    764\u001b[0m     \u001b[38;5;28;01mreturn\u001b[39;00m elements[\u001b[38;5;241m0\u001b[39m]\n\u001b[1;32m--> 766\u001b[0m \u001b[38;5;28;01mreturn\u001b[39;00m \u001b[38;5;28;43mself\u001b[39;49m\u001b[38;5;241;43m.\u001b[39;49m\u001b[43mexecute\u001b[49m\u001b[43m(\u001b[49m\u001b[43mCommand\u001b[49m\u001b[38;5;241;43m.\u001b[39;49m\u001b[43mFIND_ELEMENT\u001b[49m\u001b[43m,\u001b[49m\u001b[43m \u001b[49m\u001b[43m{\u001b[49m\u001b[38;5;124;43m\"\u001b[39;49m\u001b[38;5;124;43musing\u001b[39;49m\u001b[38;5;124;43m\"\u001b[39;49m\u001b[43m:\u001b[49m\u001b[43m \u001b[49m\u001b[43mby\u001b[49m\u001b[43m,\u001b[49m\u001b[43m \u001b[49m\u001b[38;5;124;43m\"\u001b[39;49m\u001b[38;5;124;43mvalue\u001b[39;49m\u001b[38;5;124;43m\"\u001b[39;49m\u001b[43m:\u001b[49m\u001b[43m \u001b[49m\u001b[43mvalue\u001b[49m\u001b[43m}\u001b[49m\u001b[43m)\u001b[49m[\u001b[38;5;124m\"\u001b[39m\u001b[38;5;124mvalue\u001b[39m\u001b[38;5;124m\"\u001b[39m]\n",
      "File \u001b[1;32mD:\\python311\\Lib\\site-packages\\selenium\\webdriver\\remote\\webdriver.py:380\u001b[0m, in \u001b[0;36mWebDriver.execute\u001b[1;34m(self, driver_command, params)\u001b[0m\n\u001b[0;32m    378\u001b[0m response \u001b[38;5;241m=\u001b[39m \u001b[38;5;28mself\u001b[39m\u001b[38;5;241m.\u001b[39mcommand_executor\u001b[38;5;241m.\u001b[39mexecute(driver_command, params)\n\u001b[0;32m    379\u001b[0m \u001b[38;5;28;01mif\u001b[39;00m response:\n\u001b[1;32m--> 380\u001b[0m     \u001b[38;5;28;43mself\u001b[39;49m\u001b[38;5;241;43m.\u001b[39;49m\u001b[43merror_handler\u001b[49m\u001b[38;5;241;43m.\u001b[39;49m\u001b[43mcheck_response\u001b[49m\u001b[43m(\u001b[49m\u001b[43mresponse\u001b[49m\u001b[43m)\u001b[49m\n\u001b[0;32m    381\u001b[0m     response[\u001b[38;5;124m\"\u001b[39m\u001b[38;5;124mvalue\u001b[39m\u001b[38;5;124m\"\u001b[39m] \u001b[38;5;241m=\u001b[39m \u001b[38;5;28mself\u001b[39m\u001b[38;5;241m.\u001b[39m_unwrap_value(response\u001b[38;5;241m.\u001b[39mget(\u001b[38;5;124m\"\u001b[39m\u001b[38;5;124mvalue\u001b[39m\u001b[38;5;124m\"\u001b[39m, \u001b[38;5;28;01mNone\u001b[39;00m))\n\u001b[0;32m    382\u001b[0m     \u001b[38;5;28;01mreturn\u001b[39;00m response\n",
      "File \u001b[1;32mD:\\python311\\Lib\\site-packages\\selenium\\webdriver\\remote\\errorhandler.py:229\u001b[0m, in \u001b[0;36mErrorHandler.check_response\u001b[1;34m(self, response)\u001b[0m\n\u001b[0;32m    227\u001b[0m         alert_text \u001b[38;5;241m=\u001b[39m value[\u001b[38;5;124m\"\u001b[39m\u001b[38;5;124malert\u001b[39m\u001b[38;5;124m\"\u001b[39m]\u001b[38;5;241m.\u001b[39mget(\u001b[38;5;124m\"\u001b[39m\u001b[38;5;124mtext\u001b[39m\u001b[38;5;124m\"\u001b[39m)\n\u001b[0;32m    228\u001b[0m     \u001b[38;5;28;01mraise\u001b[39;00m exception_class(message, screen, stacktrace, alert_text)  \u001b[38;5;66;03m# type: ignore[call-arg]  # mypy is not smart enough here\u001b[39;00m\n\u001b[1;32m--> 229\u001b[0m \u001b[38;5;28;01mraise\u001b[39;00m exception_class(message, screen, stacktrace)\n",
      "\u001b[1;31mNoSuchElementException\u001b[0m: Message: Unable to locate element: //button[@data-testid='search-show-more-button']; For documentation on this error, please visit: https://www.selenium.dev/documentation/webdriver/troubleshooting/errors#no-such-element-exception\nStacktrace:\nRemoteError@chrome://remote/content/shared/RemoteError.sys.mjs:8:8\nWebDriverError@chrome://remote/content/shared/webdriver/Errors.sys.mjs:193:5\nNoSuchElementError@chrome://remote/content/shared/webdriver/Errors.sys.mjs:511:5\ndom.find/</<@chrome://remote/content/shared/DOM.sys.mjs:136:16\n"
     ]
    }
   ],
   "source": [
    "for i in range(100):\n",
    "    button = driver.find_element(By.XPATH, \"//button[@data-testid='search-show-more-button']\")\n",
    "    button.click()\n",
    "\n",
    "    WebDriverWait(driver, 10).until(EC.presence_of_all_elements_located((By.XPATH, \"//li[@data-testid='search-bodega-result']\")))\n",
    "    new_bf = BeautifulSoup(driver.page_source)\n",
    "    new_searchpart = new_bf.find('ol',{'data-testid':re.compile(\"search-result\")})\n",
    "    all_items = new_searchpart.find_all('li',{'data-testid':re.compile(\"search-bodega-result\")})\n",
    "    new_items = all_items[cnt:]\n",
    "    for item in new_items:\n",
    "        obj = extractItem(item)\n",
    "        obj_list.append(obj)\n",
    "        cnt = cnt + 1\n",
    "    print(len(obj_list))"
   ]
  },
  {
   "cell_type": "code",
   "execution_count": 120,
   "id": "05400f52-490e-4569-835b-2260a1901761",
   "metadata": {},
   "outputs": [],
   "source": [
    "import json\n",
    "# with open(\"2024+US+Elections_10-11_NYT.json\", \"w\", encoding='utf-8') as file:\n",
    "# with open(\"2024+US+Elections_8-9_NYT.json\", \"w\", encoding='utf-8') as file:\n",
    "# with open(\"2024+US+Elections_7_NYT.json\", \"w\", encoding='utf-8') as file:\n",
    "# with open(\"2024+US+Elections_4-6_NYT.json\", \"w\", encoding='utf-8') as file:\n",
    "with open(\"2024+US+Elections_1_NYT.json\", \"w\", encoding='utf-8') as file:\n",
    "    json.dump(obj_list, file, indent=4, ensure_ascii=False)"
   ]
  },
  {
   "cell_type": "code",
   "execution_count": 121,
   "id": "7419fbbe-1c73-4485-b969-217f3b000021",
   "metadata": {},
   "outputs": [],
   "source": [
    "all_obj = []"
   ]
  },
  {
   "cell_type": "code",
   "execution_count": null,
   "id": "0fa96c25-1a13-45f1-ab08-1603a12cffae",
   "metadata": {},
   "outputs": [],
   "source": []
  },
  {
   "cell_type": "code",
   "execution_count": 132,
   "id": "80c46db5-abeb-4f77-b995-d08e31aa78ce",
   "metadata": {},
   "outputs": [],
   "source": [
    "def checkDate(date,url):\n",
    "    dates = date.split('-')\n",
    "    rs = date\n",
    "    if(dates[0]==\"live\"):\n",
    "        urls = url.split('/')\n",
    "        year = urls[4]\n",
    "        month = urls[5]\n",
    "        day = urls[6]\n",
    "        rs = year+\"-\"+month+\"-\"+day\n",
    "    return rs"
   ]
  },
  {
   "cell_type": "code",
   "execution_count": 136,
   "id": "8137d030-abd6-4c9f-a4a3-cab1c8b1490b",
   "metadata": {},
   "outputs": [],
   "source": [
    "with open(\"2024+US+Elections_10-11_NYT.json\", \"r\", encoding='utf-8') as file:\n",
    "    data = json.load(file)\n",
    "    for item in data:\n",
    "        title = item['Title']\n",
    "        summary = item['Summary']\n",
    "        date = item['Date']\n",
    "        url = item['Url']\n",
    "        date = checkDate(date,url)\n",
    "        obj = {\n",
    "            'Title': title,\n",
    "            'Summary': summary,\n",
    "            'Date': date,\n",
    "            'Url': url\n",
    "        }\n",
    "        all_obj.append(obj)"
   ]
  },
  {
   "cell_type": "code",
   "execution_count": 137,
   "id": "762c6df8-5a25-4466-a62b-c011f26eadbd",
   "metadata": {},
   "outputs": [],
   "source": [
    "with open(\"2024+US+Elections_8-9_NYT.json\", \"r\", encoding='utf-8') as file:\n",
    "    data = json.load(file)\n",
    "    for item in data:\n",
    "        title = item['Title']\n",
    "        summary = item['Summary']\n",
    "        date = item['Date']\n",
    "        url = item['Url']\n",
    "        date = checkDate(date,url)\n",
    "        obj = {\n",
    "            'Title': title,\n",
    "            'Summary': summary,\n",
    "            'Date': date,\n",
    "            'Url': url\n",
    "        }\n",
    "        all_obj.append(obj)"
   ]
  },
  {
   "cell_type": "code",
   "execution_count": 138,
   "id": "ff446553-eb43-4fbc-bd66-23f1d69bab4a",
   "metadata": {},
   "outputs": [],
   "source": [
    "with open(\"2024+US+Elections_7_NYT.json\", \"r\", encoding='utf-8') as file:\n",
    "    data = json.load(file)\n",
    "    for item in data:\n",
    "        title = item['Title']\n",
    "        summary = item['Summary']\n",
    "        date = item['Date']\n",
    "        url = item['Url']\n",
    "        date = checkDate(date,url)\n",
    "        obj = {\n",
    "            'Title': title,\n",
    "            'Summary': summary,\n",
    "            'Date': date,\n",
    "            'Url': url\n",
    "        }\n",
    "        all_obj.append(obj)"
   ]
  },
  {
   "cell_type": "code",
   "execution_count": 139,
   "id": "93441241-a9e1-41fa-82cf-2585697c405b",
   "metadata": {},
   "outputs": [],
   "source": [
    "with open(\"2024+US+Elections_4-6_NYT.json\", \"r\", encoding='utf-8') as file:\n",
    "    data = json.load(file)\n",
    "    for item in data:\n",
    "        title = item['Title']\n",
    "        summary = item['Summary']\n",
    "        date = item['Date']\n",
    "        url = item['Url']\n",
    "        date = checkDate(date,url)\n",
    "        obj = {\n",
    "            'Title': title,\n",
    "            'Summary': summary,\n",
    "            'Date': date,\n",
    "            'Url': url\n",
    "        }\n",
    "        all_obj.append(obj)"
   ]
  },
  {
   "cell_type": "code",
   "execution_count": 140,
   "id": "5379dfa4-4333-428b-8a53-5c0fa5c520aa",
   "metadata": {},
   "outputs": [],
   "source": [
    "with open(\"2024+US+Elections_2-3_NYT.json\", \"r\", encoding='utf-8') as file:\n",
    "    data = json.load(file)\n",
    "    for item in data:\n",
    "        title = item['Title']\n",
    "        summary = item['Summary']\n",
    "        date = item['Date']\n",
    "        url = item['Url']\n",
    "        date = checkDate(date,url)\n",
    "        obj = {\n",
    "            'Title': title,\n",
    "            'Summary': summary,\n",
    "            'Date': date,\n",
    "            'Url': url\n",
    "        }\n",
    "        all_obj.append(obj)"
   ]
  },
  {
   "cell_type": "code",
   "execution_count": 141,
   "id": "3105423d-3036-47da-aca2-ab97dcd46009",
   "metadata": {},
   "outputs": [],
   "source": [
    "with open(\"2024+US+Elections_1_NYT.json\", \"r\", encoding='utf-8') as file:\n",
    "    data = json.load(file)\n",
    "    for item in data:\n",
    "        title = item['Title']\n",
    "        summary = item['Summary']\n",
    "        date = item['Date']\n",
    "        url = item['Url']\n",
    "        date = checkDate(date,url)\n",
    "        obj = {\n",
    "            'Title': title,\n",
    "            'Summary': summary,\n",
    "            'Date': date,\n",
    "            'Url': url\n",
    "        }\n",
    "        all_obj.append(obj)"
   ]
  },
  {
   "cell_type": "code",
   "execution_count": 142,
   "id": "e4688e16-6000-4e7c-b140-d4ef6bfb17b6",
   "metadata": {},
   "outputs": [],
   "source": [
    "with open(\"2024+US+Elections_NYT.json\", \"w\", encoding='utf-8') as file:\n",
    "    json.dump(all_obj, file, indent=4, ensure_ascii=False)"
   ]
  },
  {
   "cell_type": "code",
   "execution_count": null,
   "id": "d2f3fd71-8c53-4c01-8582-3d489e86f5dc",
   "metadata": {},
   "outputs": [],
   "source": []
  }
 ],
 "metadata": {
  "kernelspec": {
   "display_name": "Python 3 (ipykernel)",
   "language": "python",
   "name": "python3"
  },
  "language_info": {
   "codemirror_mode": {
    "name": "ipython",
    "version": 3
   },
   "file_extension": ".py",
   "mimetype": "text/x-python",
   "name": "python",
   "nbconvert_exporter": "python",
   "pygments_lexer": "ipython3",
   "version": "3.11.2"
  }
 },
 "nbformat": 4,
 "nbformat_minor": 5
}
