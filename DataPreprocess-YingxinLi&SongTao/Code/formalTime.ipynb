{
 "cells": [
  {
   "cell_type": "code",
   "execution_count": 19,
   "id": "dadf6dae-9293-453b-98cd-aea2e29e10c0",
   "metadata": {},
   "outputs": [
    {
     "name": "stdout",
     "output_type": "stream",
     "text": [
      "9h ago\n",
      "12h ago\n",
      "18h ago\n",
      "20h ago\n",
      "16h ago\n",
      "19h ago\n",
      "19h ago\n",
      "18h ago\n"
     ]
    }
   ],
   "source": [
    "import json  \n",
    "from datetime import datetime  \n",
    "\n",
    "# 加载JSON数据  \n",
    "with open('news.json', 'r', encoding='utf-8') as file:  \n",
    "    news_data = json.load(file)  \n",
    "\n",
    "# 创建一个新的列表以存储转换后的数据  \n",
    "processed_data = []  \n",
    "nonDate_data = []\n",
    "\n",
    "def parse_custom_date(date_str):  \n",
    "    \"\"\"解析特定格式日期，例如：Wed 2 Oct\"\"\"  \n",
    "    try:  \n",
    "        if (\"ago\" in date_str):\n",
    "            print(date_str)\n",
    "            return None\n",
    "        if len(date_str.split(\"-\")) == 3:  # 处理 YYYY-mm-dd  \n",
    "            return datetime.strptime(date_str, \"%Y-%m-%d\")  \n",
    "        elif len(date_str.split(\" \")) == 3:  # 处理类似 Wed 2 Oct  \n",
    "            return datetime.strptime(date_str + \" 2024\", \"%a %d %b %Y\") \n",
    "        else:\n",
    "            return None\n",
    "    except ValueError:  \n",
    "        return None\n",
    "\n",
    "for article in news_data:  \n",
    "    original_date = article['date']  \n",
    "    parsed_date = parse_custom_date(original_date)  \n",
    "    if parsed_date:  \n",
    "        new_date = parsed_date.strftime(\"%Y-%m-%d\")  # 转换为 yyyy-mm-dd 格式  \n",
    "        article['date'] = new_date  \n",
    "        processed_data.append(article)  \n",
    "    else:\n",
    "        nonDate_data.append(article) \n",
    "\n",
    "# 按日期从远到近排序  \n",
    "processed_data.sort(key=lambda x: datetime.strptime(x['date'], \"%Y-%m-%d\"))  \n",
    "all_data = processed_data + nonDate_data"
   ]
  },
  {
   "cell_type": "code",
   "execution_count": 20,
   "id": "9e95afd8-c37a-4dc8-bcb7-6963bf96403d",
   "metadata": {},
   "outputs": [
    {
     "name": "stdout",
     "output_type": "stream",
     "text": [
      "Converted and sorted data has been saved to 'processed_news.json'.\n"
     ]
    }
   ],
   "source": [
    "# 保存处理后的数据到新的JSON文件  \n",
    "with open('t_news.json', 'w', encoding='utf-8') as outfile:  \n",
    "    json.dump(all_data, outfile, ensure_ascii=False, indent=4)  \n",
    "\n",
    "print(\"Converted and sorted data has been saved to 'processed_news.json'.\")"
   ]
  },
  {
   "cell_type": "code",
   "execution_count": null,
   "id": "fca1410c-6c77-447d-b362-6af9dc61e7ca",
   "metadata": {},
   "outputs": [],
   "source": []
  }
 ],
 "metadata": {
  "kernelspec": {
   "display_name": "Python 3 (ipykernel)",
   "language": "python",
   "name": "python3"
  },
  "language_info": {
   "codemirror_mode": {
    "name": "ipython",
    "version": 3
   },
   "file_extension": ".py",
   "mimetype": "text/x-python",
   "name": "python",
   "nbconvert_exporter": "python",
   "pygments_lexer": "ipython3",
   "version": "3.11.2"
  }
 },
 "nbformat": 4,
 "nbformat_minor": 5
}
